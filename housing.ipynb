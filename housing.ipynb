{
 "cells": [
  {
   "cell_type": "code",
   "execution_count": 1,
   "metadata": {},
   "outputs": [],
   "source": [
    "# Load necessary libraries\n",
    "from __future__ import print_function\n",
    "\n",
    "import math\n",
    "\n",
    "from IPython import display\n",
    "from matplotlib import cm\n",
    "from matplotlib import gridspec\n",
    "from matplotlib import pyplot as plt\n",
    "import numpy as np\n",
    "import pandas as pd\n",
    "from sklearn import metrics\n",
    "\n",
    "# %tensorflow_version 1.x\n",
    "import tensorflow as tf\n",
    "\n",
    "#  (tf.python.data)\n",
    "from tensorflow.python.data import Dataset\n",
    "\n",
    "# tf.logging.ERROR and tf.logging.set_verbosity is deprecated\n",
    "# tf.logging.set_verbosity(tf.logging.ERROR)\n",
    "tf.compat.v1.logging.ERROR\n",
    "tf.compat.v1.logging.set_verbosity\n",
    "\n",
    "pd.options.display.max_rows = 10\n",
    "pd.options.display.float_format = '{:.1f}'.format\n"
   ]
  },
  {
   "cell_type": "code",
   "execution_count": 2,
   "metadata": {},
   "outputs": [
    {
     "output_type": "execute_result",
     "data": {
      "text/plain": "       longitude  latitude  housing_median_age  total_rooms  total_bedrooms  \\\ncount    17000.0   17000.0             17000.0      17000.0         17000.0   \nmean      -119.6      35.6                28.6       2643.7           539.4   \nstd          2.0       2.1                12.6       2179.9           421.5   \nmin       -124.3      32.5                 1.0          2.0             1.0   \n25%       -121.8      33.9                18.0       1462.0           297.0   \n50%       -118.5      34.2                29.0       2127.0           434.0   \n75%       -118.0      37.7                37.0       3151.2           648.2   \nmax       -114.3      42.0                52.0      37937.0          6445.0   \n\n       population  households  median_income  median_house_value  \ncount     17000.0     17000.0        17000.0             17000.0  \nmean       1429.6       501.2            3.9               207.3  \nstd        1147.9       384.5            1.9               116.0  \nmin           3.0         1.0            0.5                15.0  \n25%         790.0       282.0            2.6               119.4  \n50%        1167.0       409.0            3.5               180.4  \n75%        1721.0       605.2            4.8               265.0  \nmax       35682.0      6082.0           15.0               500.0  ",
      "text/html": "<div>\n<style scoped>\n    .dataframe tbody tr th:only-of-type {\n        vertical-align: middle;\n    }\n\n    .dataframe tbody tr th {\n        vertical-align: top;\n    }\n\n    .dataframe thead th {\n        text-align: right;\n    }\n</style>\n<table border=\"1\" class=\"dataframe\">\n  <thead>\n    <tr style=\"text-align: right;\">\n      <th></th>\n      <th>longitude</th>\n      <th>latitude</th>\n      <th>housing_median_age</th>\n      <th>total_rooms</th>\n      <th>total_bedrooms</th>\n      <th>population</th>\n      <th>households</th>\n      <th>median_income</th>\n      <th>median_house_value</th>\n    </tr>\n  </thead>\n  <tbody>\n    <tr>\n      <th>count</th>\n      <td>17000.0</td>\n      <td>17000.0</td>\n      <td>17000.0</td>\n      <td>17000.0</td>\n      <td>17000.0</td>\n      <td>17000.0</td>\n      <td>17000.0</td>\n      <td>17000.0</td>\n      <td>17000.0</td>\n    </tr>\n    <tr>\n      <th>mean</th>\n      <td>-119.6</td>\n      <td>35.6</td>\n      <td>28.6</td>\n      <td>2643.7</td>\n      <td>539.4</td>\n      <td>1429.6</td>\n      <td>501.2</td>\n      <td>3.9</td>\n      <td>207.3</td>\n    </tr>\n    <tr>\n      <th>std</th>\n      <td>2.0</td>\n      <td>2.1</td>\n      <td>12.6</td>\n      <td>2179.9</td>\n      <td>421.5</td>\n      <td>1147.9</td>\n      <td>384.5</td>\n      <td>1.9</td>\n      <td>116.0</td>\n    </tr>\n    <tr>\n      <th>min</th>\n      <td>-124.3</td>\n      <td>32.5</td>\n      <td>1.0</td>\n      <td>2.0</td>\n      <td>1.0</td>\n      <td>3.0</td>\n      <td>1.0</td>\n      <td>0.5</td>\n      <td>15.0</td>\n    </tr>\n    <tr>\n      <th>25%</th>\n      <td>-121.8</td>\n      <td>33.9</td>\n      <td>18.0</td>\n      <td>1462.0</td>\n      <td>297.0</td>\n      <td>790.0</td>\n      <td>282.0</td>\n      <td>2.6</td>\n      <td>119.4</td>\n    </tr>\n    <tr>\n      <th>50%</th>\n      <td>-118.5</td>\n      <td>34.2</td>\n      <td>29.0</td>\n      <td>2127.0</td>\n      <td>434.0</td>\n      <td>1167.0</td>\n      <td>409.0</td>\n      <td>3.5</td>\n      <td>180.4</td>\n    </tr>\n    <tr>\n      <th>75%</th>\n      <td>-118.0</td>\n      <td>37.7</td>\n      <td>37.0</td>\n      <td>3151.2</td>\n      <td>648.2</td>\n      <td>1721.0</td>\n      <td>605.2</td>\n      <td>4.8</td>\n      <td>265.0</td>\n    </tr>\n    <tr>\n      <th>max</th>\n      <td>-114.3</td>\n      <td>42.0</td>\n      <td>52.0</td>\n      <td>37937.0</td>\n      <td>6445.0</td>\n      <td>35682.0</td>\n      <td>6082.0</td>\n      <td>15.0</td>\n      <td>500.0</td>\n    </tr>\n  </tbody>\n</table>\n</div>"
     },
     "metadata": {},
     "execution_count": 2
    }
   ],
   "source": [
    "# Load dataset\n",
    "california_housing_dataframe = pd.read_csv(\"https://download.mlcc.google.com/mledu-datasets/california_housing_train.csv\", sep=\",\")\n",
    "\n",
    "'''  Randomize the data, just to be sure not to get any pathological ordering effects that might harm the performance of Stochastic Gradient Descent. Additionally, we'll scale median_house_value to be in units of thousands, so it can be learned a little more easily with learning rates in a range that we usually use. '''\n",
    "california_housing_dataframe = california_housing_dataframe.reindex(\n",
    "    np.random.permutation(california_housing_dataframe.index)\n",
    ")\n",
    "california_housing_dataframe[\"median_house_value\"] /= 1000.0\n",
    "california_housing_dataframe.describe()"
   ]
  },
  {
   "cell_type": "code",
   "execution_count": null,
   "metadata": {},
   "outputs": [],
   "source": []
  }
 ],
 "metadata": {
  "language_info": {
   "codemirror_mode": {
    "name": "ipython",
    "version": 3
   },
   "file_extension": ".py",
   "mimetype": "text/x-python",
   "name": "python",
   "nbconvert_exporter": "python",
   "pygments_lexer": "ipython3",
   "version": "3.7.7-final"
  },
  "orig_nbformat": 2,
  "kernelspec": {
   "name": "python37764bitmyenvcondae551758100324a67b637706725420e9f",
   "display_name": "Python 3.7.7 64-bit ('myenv': conda)"
  }
 },
 "nbformat": 4,
 "nbformat_minor": 2
}